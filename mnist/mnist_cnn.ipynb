{
 "cells": [
  {
   "cell_type": "code",
   "execution_count": 2,
   "id": "a6d72e93",
   "metadata": {
    "execution": {
     "iopub.execute_input": "2024-07-17T00:05:32.949452Z",
     "iopub.status.busy": "2024-07-17T00:05:32.948307Z",
     "iopub.status.idle": "2024-07-17T00:05:36.238681Z",
     "shell.execute_reply": "2024-07-17T00:05:36.237720Z"
    },
    "papermill": {
     "duration": 3.298434,
     "end_time": "2024-07-17T00:05:36.241145",
     "exception": false,
     "start_time": "2024-07-17T00:05:32.942711",
     "status": "completed"
    },
    "tags": []
   },
   "outputs": [],
   "source": [
    "import numpy as np\n",
    "\n",
    "import torch\n",
    "import torch.nn as nn\n",
    "import torch.optim as optim\n",
    "import torch.nn.functional as F  # Add this line\n",
    "\n",
    "import pandas as pd\n",
    "import matplotlib.pyplot as plt"
   ]
  },
  {
   "cell_type": "code",
   "execution_count": 3,
   "id": "209e818d",
   "metadata": {
    "execution": {
     "iopub.execute_input": "2024-07-17T00:05:36.252269Z",
     "iopub.status.busy": "2024-07-17T00:05:36.251790Z",
     "iopub.status.idle": "2024-07-17T00:05:36.264133Z",
     "shell.execute_reply": "2024-07-17T00:05:36.263306Z"
    },
    "papermill": {
     "duration": 0.020499,
     "end_time": "2024-07-17T00:05:36.266411",
     "exception": false,
     "start_time": "2024-07-17T00:05:36.245912",
     "status": "completed"
    },
    "tags": []
   },
   "outputs": [],
   "source": [
    "# Set random seeds for reproducibility\n",
    "seed = 42\n",
    "np.random.seed(seed)\n",
    "torch.manual_seed(seed)\n",
    "if torch.cuda.is_available():\n",
    "    torch.cuda.manual_seed(seed)\n",
    "    torch.cuda.manual_seed_all(seed)  # if you are using multi-GPU.\n",
    "torch.backends.cudnn.deterministic = True\n",
    "torch.backends.cudnn.benchmark = False"
   ]
  },
  {
   "cell_type": "code",
   "execution_count": 4,
   "id": "18d3efa1",
   "metadata": {
    "execution": {
     "iopub.execute_input": "2024-07-17T00:05:36.276940Z",
     "iopub.status.busy": "2024-07-17T00:05:36.276597Z",
     "iopub.status.idle": "2024-07-17T00:05:39.002197Z",
     "shell.execute_reply": "2024-07-17T00:05:39.001135Z"
    },
    "papermill": {
     "duration": 2.733631,
     "end_time": "2024-07-17T00:05:39.004662",
     "exception": false,
     "start_time": "2024-07-17T00:05:36.271031",
     "status": "completed"
    },
    "tags": []
   },
   "outputs": [
    {
     "name": "stdout",
     "output_type": "stream",
     "text": [
      "[[0. 0. 0. ... 0. 0. 0.]\n",
      " [0. 0. 0. ... 0. 0. 0.]\n",
      " [0. 0. 0. ... 0. 0. 0.]\n",
      " ...\n",
      " [0. 0. 0. ... 0. 0. 0.]\n",
      " [0. 0. 0. ... 0. 0. 0.]\n",
      " [0. 0. 0. ... 0. 0. 0.]]\n",
      "[1. 0. 1. ... 7. 6. 9.]\n"
     ]
    }
   ],
   "source": [
    "# load the dataset, split into input (X) and output (y) variables\n",
    "dataset = np.loadtxt('data/train.csv', delimiter=',', skiprows=1)\n",
    "X = dataset[:,1:]\n",
    "print(X)\n",
    "y = dataset[:, 0]\n",
    "print(y)"
   ]
  },
  {
   "cell_type": "code",
   "execution_count": 5,
   "id": "a01da6a5",
   "metadata": {
    "execution": {
     "iopub.execute_input": "2024-07-17T00:05:39.016525Z",
     "iopub.status.busy": "2024-07-17T00:05:39.015716Z",
     "iopub.status.idle": "2024-07-17T00:05:39.653197Z",
     "shell.execute_reply": "2024-07-17T00:05:39.652106Z"
    },
    "papermill": {
     "duration": 0.64595,
     "end_time": "2024-07-17T00:05:39.655500",
     "exception": false,
     "start_time": "2024-07-17T00:05:39.009550",
     "status": "completed"
    },
    "tags": []
   },
   "outputs": [
    {
     "data": {
      "image/png": "[encoded data removed]",
      "text/plain": [
       "<Figure size 2000x200 with 10 Axes>"
      ]
     },
     "metadata": {},
     "output_type": "display_data"
    }
   ],
   "source": [
    "num_samples = 10\n",
    "sample_indices = np.random.choice(len(X), num_samples, replace=False)\n",
    "sample_images = X[sample_indices]\n",
    "sample_labels = y[sample_indices]\n",
    "\n",
    "# Visualize the samples along with their labels\n",
    "fig, axes = plt.subplots(1, num_samples, figsize=(20, 2))\n",
    "for i, ax in enumerate(axes):\n",
    "    ax.imshow(sample_images[i].reshape(28, 28), cmap='gray')\n",
    "    ax.set_title(f'Label: {int(sample_labels[i])}')\n",
    "    ax.axis('off')\n",
    "plt.show()"
   ]
  },
  {
   "cell_type": "code",
   "execution_count": 6,
   "id": "0beabdc4",
   "metadata": {
    "execution": {
     "iopub.execute_input": "2024-07-17T00:05:39.667166Z",
     "iopub.status.busy": "2024-07-17T00:05:39.666765Z",
     "iopub.status.idle": "2024-07-17T00:05:39.812166Z",
     "shell.execute_reply": "2024-07-17T00:05:39.811098Z"
    },
    "papermill": {
     "duration": 0.154268,
     "end_time": "2024-07-17T00:05:39.814802",
     "exception": false,
     "start_time": "2024-07-17T00:05:39.660534",
     "status": "completed"
    },
    "tags": []
   },
   "outputs": [],
   "source": [
    "# Normalize the training data\n",
    "X = X / 255.0  # Normalize pixel values to [0, 1]"
   ]
  },
  {
   "cell_type": "code",
   "execution_count": 7,
   "id": "78ad4ffa",
   "metadata": {
    "execution": {
     "iopub.execute_input": "2024-07-17T00:05:39.826579Z",
     "iopub.status.busy": "2024-07-17T00:05:39.826187Z",
     "iopub.status.idle": "2024-07-17T00:05:39.939436Z",
     "shell.execute_reply": "2024-07-17T00:05:39.938355Z"
    },
    "papermill": {
     "duration": 0.122348,
     "end_time": "2024-07-17T00:05:39.942257",
     "exception": false,
     "start_time": "2024-07-17T00:05:39.819909",
     "status": "completed"
    },
    "tags": []
   },
   "outputs": [],
   "source": [
    "X = torch.tensor(X, dtype=torch.float32)\n",
    "y = torch.tensor(y, dtype=torch.int64)  # Class indices should be int64"
   ]
  },
  {
   "cell_type": "code",
   "execution_count": 8,
   "id": "d0c969a1",
   "metadata": {
    "execution": {
     "iopub.execute_input": "2024-07-17T00:05:39.953847Z",
     "iopub.status.busy": "2024-07-17T00:05:39.953475Z",
     "iopub.status.idle": "2024-07-17T00:05:39.973117Z",
     "shell.execute_reply": "2024-07-17T00:05:39.972149Z"
    },
    "papermill": {
     "duration": 0.028035,
     "end_time": "2024-07-17T00:05:39.975433",
     "exception": false,
     "start_time": "2024-07-17T00:05:39.947398",
     "status": "completed"
    },
    "tags": []
   },
   "outputs": [
    {
     "data": {
      "text/plain": [
       "torch.Size([42000, 1, 28, 28])"
      ]
     },
     "execution_count": 8,
     "metadata": {},
     "output_type": "execute_result"
    }
   ],
   "source": [
    "X = X.view(-1, 1, 28, 28)  # Reshape to (batch_size, channels, height, width)\n",
    "X.size()"
   ]
  },
  {
   "cell_type": "markdown",
   "id": "513590a7",
   "metadata": {
    "papermill": {
     "duration": 0.004878,
     "end_time": "2024-07-17T00:05:39.985375",
     "exception": false,
     "start_time": "2024-07-17T00:05:39.980497",
     "status": "completed"
    },
    "tags": []
   },
   "source": [
    "Define Model"
   ]
  },
  {
   "cell_type": "code",
   "execution_count": 9,
   "id": "e65ab250",
   "metadata": {
    "execution": {
     "iopub.execute_input": "2024-07-17T00:05:39.997099Z",
     "iopub.status.busy": "2024-07-17T00:05:39.996683Z",
     "iopub.status.idle": "2024-07-17T00:05:40.020846Z",
     "shell.execute_reply": "2024-07-17T00:05:40.019666Z"
    },
    "papermill": {
     "duration": 0.033148,
     "end_time": "2024-07-17T00:05:40.023546",
     "exception": false,
     "start_time": "2024-07-17T00:05:39.990398",
     "status": "completed"
    },
    "tags": []
   },
   "outputs": [],
   "source": [
    "class CNN(nn.Module):\n",
    "    def __init__(self):\n",
    "        super(CNN, self).__init__()\n",
    "        self.conv1 = nn.Conv2d(1, 32, kernel_size=3, padding=1)\n",
    "        self.conv2 = nn.Conv2d(32, 64, kernel_size=3, padding=1)\n",
    "        self.pool = nn.MaxPool2d(2, 2)\n",
    "        self.fc1 = nn.Linear(64 * 7 * 7, 128)\n",
    "        self.fc2 = nn.Linear(128, 10)\n",
    "        self.dropout = nn.Dropout(0.5)\n",
    "\n",
    "    def forward(self, x):\n",
    "        x = self.pool(F.relu(self.conv1(x)))\n",
    "        x = self.pool(F.relu(self.conv2(x)))\n",
    "        x = x.view(-1, 64 * 7 * 7)\n",
    "        x = F.relu(self.fc1(x))\n",
    "        x = self.dropout(x)\n",
    "        x = self.fc2(x)\n",
    "        return x\n",
    "\n",
    "model = CNN()"
   ]
  },
  {
   "cell_type": "markdown",
   "id": "954e5381",
   "metadata": {
    "papermill": {
     "duration": 0.005267,
     "end_time": "2024-07-17T00:05:40.034058",
     "exception": false,
     "start_time": "2024-07-17T00:05:40.028791",
     "status": "completed"
    },
    "tags": []
   },
   "source": [
    "Define Loss Function and Optimizers"
   ]
  },
  {
   "cell_type": "code",
   "execution_count": 10,
   "id": "62d6e7b9",
   "metadata": {
    "execution": {
     "iopub.execute_input": "2024-07-17T00:05:40.046173Z",
     "iopub.status.busy": "2024-07-17T00:05:40.045396Z",
     "iopub.status.idle": "2024-07-17T00:05:41.493253Z",
     "shell.execute_reply": "2024-07-17T00:05:41.492159Z"
    },
    "papermill": {
     "duration": 1.456927,
     "end_time": "2024-07-17T00:05:41.496096",
     "exception": false,
     "start_time": "2024-07-17T00:05:40.039169",
     "status": "completed"
    },
    "tags": []
   },
   "outputs": [],
   "source": [
    "loss_fn = nn.CrossEntropyLoss()\n",
    "optimizer = optim.Adam(model.parameters(), lr=0.001)"
   ]
  },
  {
   "cell_type": "markdown",
   "id": "30434f35",
   "metadata": {
    "papermill": {
     "duration": 0.005049,
     "end_time": "2024-07-17T00:05:41.506567",
     "exception": false,
     "start_time": "2024-07-17T00:05:41.501518",
     "status": "completed"
    },
    "tags": []
   },
   "source": [
    "Training Loop"
   ]
  },
  {
   "cell_type": "code",
   "execution_count": 11,
   "id": "2fc89b30",
   "metadata": {
    "execution": {
     "iopub.execute_input": "2024-07-17T00:05:41.518626Z",
     "iopub.status.busy": "2024-07-17T00:05:41.518073Z",
     "iopub.status.idle": "2024-07-17T00:12:54.074194Z",
     "shell.execute_reply": "2024-07-17T00:12:54.073192Z"
    },
    "papermill": {
     "duration": 432.574174,
     "end_time": "2024-07-17T00:12:54.085902",
     "exception": false,
     "start_time": "2024-07-17T00:05:41.511728",
     "status": "completed"
    },
    "tags": []
   },
   "outputs": [
    {
     "name": "stdout",
     "output_type": "stream",
     "text": [
      "Epoch 1/10, Loss: 0.0537, Accuracy: 0.9774\n",
      "Epoch 2/10, Loss: 0.0022, Accuracy: 0.9842\n",
      "Epoch 3/10, Loss: 0.0193, Accuracy: 0.9879\n",
      "Epoch 4/10, Loss: 0.0475, Accuracy: 0.9892\n",
      "Epoch 5/10, Loss: 0.0164, Accuracy: 0.9929\n",
      "Epoch 6/10, Loss: 0.0316, Accuracy: 0.9931\n",
      "Epoch 7/10, Loss: 0.0003, Accuracy: 0.9938\n",
      "Epoch 8/10, Loss: 0.0035, Accuracy: 0.9958\n",
      "Epoch 9/10, Loss: 0.0007, Accuracy: 0.9962\n",
      "Epoch 10/10, Loss: 0.0015, Accuracy: 0.9966\n"
     ]
    }
   ],
   "source": [
    "n_epochs = 10\n",
    "batch_size = 64\n",
    "\n",
    "for epoch in range(n_epochs):\n",
    "    model.train()\n",
    "    for i in range(0, len(X), batch_size):\n",
    "        Xbatch = X[i:i + batch_size]\n",
    "        ybatch = y[i:i + batch_size]\n",
    "\n",
    "        optimizer.zero_grad()\n",
    "        outputs = model(Xbatch)\n",
    "        loss = loss_fn(outputs, ybatch)\n",
    "        loss.backward()\n",
    "        optimizer.step()\n",
    "\n",
    "    model.eval()\n",
    "    with torch.no_grad():\n",
    "        test_outputs = model(X)\n",
    "        _, predictions = torch.max(test_outputs, 1)\n",
    "        accuracy = (predictions == y).float().mean()\n",
    "    \n",
    "    print(f'Epoch {epoch+1}/{n_epochs}, Loss: {loss.item():.4f}, Accuracy: {accuracy.item():.4f}')"
   ]
  },
  {
   "cell_type": "markdown",
   "id": "50b71909",
   "metadata": {
    "papermill": {
     "duration": 0.005591,
     "end_time": "2024-07-17T00:12:54.099929",
     "exception": false,
     "start_time": "2024-07-17T00:12:54.094338",
     "status": "completed"
    },
    "tags": []
   },
   "source": [
    "Make Predictions"
   ]
  },
  {
   "cell_type": "code",
   "execution_count": 12,
   "id": "33a6201d",
   "metadata": {
    "execution": {
     "iopub.execute_input": "2024-07-17T00:12:54.114180Z",
     "iopub.status.busy": "2024-07-17T00:12:54.113178Z",
     "iopub.status.idle": "2024-07-17T00:13:08.600436Z",
     "shell.execute_reply": "2024-07-17T00:13:08.599421Z"
    },
    "papermill": {
     "duration": 14.497208,
     "end_time": "2024-07-17T00:13:08.602972",
     "exception": false,
     "start_time": "2024-07-17T00:12:54.105764",
     "status": "completed"
    },
    "tags": []
   },
   "outputs": [],
   "source": [
    "# Load the test dataset\n",
    "test_data_path = 'data/test.csv'\n",
    "test_df = pd.read_csv(test_data_path)\n",
    "\n",
    "# Prepare the test data\n",
    "test_X = test_df.values\n",
    "test_X = test_X / 255.0  # Normalize pixel values to [0, 1]\n",
    "test_X = torch.tensor(test_X, dtype=torch.float32)\n",
    "\n",
    "test_X = test_X.view(-1, 1, 28, 28)  # Reshape test data\n",
    "test_X.size()\n",
    "\n",
    "model.eval()\n",
    "with torch.no_grad():\n",
    "    outputs = model(test_X)\n",
    "    test_predictions = torch.argmax(outputs, dim=1).numpy()\n",
    "\n",
    "# Create a DataFrame with ImageId and Label\n",
    "image_ids = np.arange(1, len(test_predictions) + 1)  # Assuming ImageId starts from 1\n",
    "submission_df = pd.DataFrame({\n",
    "    'ImageId': image_ids,\n",
    "    'Label': test_predictions\n",
    "})\n",
    "\n",
    "# Save to CSV file\n",
    "submission_df.to_csv('submission.csv', index=False)"
   ]
  },
  {
   "cell_type": "code",
   "execution_count": 13,
   "id": "8c1e5643",
   "metadata": {
    "execution": {
     "iopub.execute_input": "2024-07-17T00:13:08.616086Z",
     "iopub.status.busy": "2024-07-17T00:13:08.615743Z",
     "iopub.status.idle": "2024-07-17T00:13:09.173759Z",
     "shell.execute_reply": "2024-07-17T00:13:09.172816Z"
    },
    "papermill": {
     "duration": 0.567049,
     "end_time": "2024-07-17T00:13:09.176031",
     "exception": false,
     "start_time": "2024-07-17T00:13:08.608982",
     "status": "completed"
    },
    "tags": []
   },
   "outputs": [
    {
     "data": {
      "image/png": "[encoded data removed]",
      "text/plain": [
       "<Figure size 2000x200 with 10 Axes>"
      ]
     },
     "metadata": {},
     "output_type": "display_data"
    }
   ],
   "source": [
    "# Select a few samples to visualize\n",
    "num_samples = 10\n",
    "sample_indices = np.random.choice(len(test_X), num_samples, replace=False)\n",
    "sample_images = test_X[sample_indices].numpy()\n",
    "sample_predictions = test_predictions[sample_indices]\n",
    "\n",
    "# Visualize the samples along with their predicted labels\n",
    "fig, axes = plt.subplots(1, num_samples, figsize=(20, 2))\n",
    "for i, ax in enumerate(axes):\n",
    "    ax.imshow(sample_images[i].reshape(28, 28), cmap='gray')\n",
    "    ax.set_title(f'Pred: {sample_predictions[i]}')\n",
    "    ax.axis('off')\n",
    "plt.show()"
   ]
  }
 ],
 "metadata": {
  "kaggle": {
   "accelerator": "none",
   "dataSources": [
    {
     "databundleVersionId": 861823,
     "sourceId": 3004,
     "sourceType": "competition"
    }
   ],
   "dockerImageVersionId": 30746,
   "isGpuEnabled": false,
   "isInternetEnabled": true,
   "language": "python",
   "sourceType": "notebook"
  },
  "kernelspec": {
   "display_name": "Python 3",
   "language": "python",
   "name": "python3"
  },
  "language_info": {
   "codemirror_mode": {
    "name": "ipython",
    "version": 3
   },
   "file_extension": ".py",
   "mimetype": "text/x-python",
   "name": "python",
   "nbconvert_exporter": "python",
   "pygments_lexer": "ipython3",
   "version": "3.10.6"
  },
  "papermill": {
   "default_parameters": {},
   "duration": 460.889325,
   "end_time": "2024-07-17T00:13:10.317949",
   "environment_variables": {},
   "exception": null,
   "input_path": "__notebook__.ipynb",
   "output_path": "__notebook__.ipynb",
   "parameters": {},
   "start_time": "2024-07-17T00:05:29.428624",
   "version": "2.5.0"
  }
 },
 "nbformat": 4,
 "nbformat_minor": 5
}

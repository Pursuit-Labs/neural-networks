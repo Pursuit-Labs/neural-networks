{
 "cells": [
  {
   "cell_type": "markdown",
   "id": "22b4d4da-4b07-4759-b0f3-f1729996608a",
   "metadata": {},
   "source": [
    "Imports"
   ]
  },
  {
   "cell_type": "code",
   "execution_count": 39,
   "id": "8a213816-e925-4911-8088-196afc928e4e",
   "metadata": {},
   "outputs": [],
   "source": [
    "import numpy as np\n",
    "import torch\n",
    "import torch.nn as nn\n",
    "import torch.optim as optim\n",
    "import pandas as pd\n",
    "import matplotlib.pyplot as plt\n",
    "import torchvision\n",
    "import torchvision.transforms as transforms"
   ]
  },
  {
   "cell_type": "markdown",
   "id": "1a8eb2de-6c68-461f-980b-676d5f58cbf2",
   "metadata": {},
   "source": [
    "Set random seeds for reproducibility"
   ]
  },
  {
   "cell_type": "code",
   "execution_count": 40,
   "id": "0662ec02-df27-46d9-9f65-c4a67894b4ad",
   "metadata": {},
   "outputs": [],
   "source": [
    "seed = 42\n",
    "np.random.seed(seed)\n",
    "torch.manual_seed(seed)\n",
    "if torch.cuda.is_available():\n",
    "    torch.cuda.manual_seed(seed)\n",
    "    torch.cuda.manual_seed_all(seed)  # if you are using multi-GPU.\n",
    "torch.backends.cudnn.deterministic = True\n",
    "torch.backends.cudnn.benchmark = False"
   ]
  },
  {
   "cell_type": "markdown",
   "id": "a1fbb25b-76a6-48f4-b75c-8342f3e44f78",
   "metadata": {},
   "source": [
    "Load Data"
   ]
  },
  {
   "cell_type": "code",
   "execution_count": 53,
   "id": "945dc8cb-6f30-43b6-abad-cb01ea686a63",
   "metadata": {},
   "outputs": [
    {
     "data": {
      "text/plain": [
       "\"\\n# Load the dataset from a file\\ndataset = np.loadtxt('train.csv', delimiter=',', skiprows=1)\\nX = dataset[:, 1:]\\ny = dataset[:, 0]\\n\\n# Normalize the training data\\nX = X / 255.0  # Normalize pixel values to [0, 1]\\n\\nX = torch.tensor(X, dtype=torch.float32)\\ny = torch.tensor(y, dtype=torch.int64)  # Class indices should be int64\\n\\n# Load the test dataset\\ntest_data_path = 'test.csv'\\ntest_df = pd.read_csv(test_data_path)\\ntest_X = test_df.values\\ntest_X = test_X / 255.0  # Normalize pixel values to [0, 1]\\ntest_X = torch.tensor(test_X, dtype=torch.float32)\\n\""
      ]
     },
     "execution_count": 53,
     "metadata": {},
     "output_type": "execute_result"
    }
   ],
   "source": [
    "# Method 1: Load Data from Files (Commented Out)\n",
    "\"\"\"\n",
    "# Load the dataset from a file\n",
    "dataset = np.loadtxt('train.csv', delimiter=',', skiprows=1)\n",
    "X = dataset[:, 1:]\n",
    "y = dataset[:, 0]\n",
    "\n",
    "# Normalize the training data\n",
    "X = X / 255.0  # Normalize pixel values to [0, 1]\n",
    "\n",
    "X = torch.tensor(X, dtype=torch.float32)\n",
    "y = torch.tensor(y, dtype=torch.int64)  # Class indices should be int64\n",
    "\n",
    "# Load the test dataset\n",
    "test_data_path = 'test.csv'\n",
    "test_df = pd.read_csv(test_data_path)\n",
    "test_X = test_df.values\n",
    "test_X = test_X / 255.0  # Normalize pixel values to [0, 1]\n",
    "test_X = torch.tensor(test_X, dtype=torch.float32)\n",
    "\"\"\""
   ]
  },
  {
   "cell_type": "code",
   "execution_count": 42,
   "id": "5b2cb56f-b577-4ecc-8219-8d356cfa5522",
   "metadata": {},
   "outputs": [],
   "source": [
    "# Method 2: Import MNIST Dataset using PyTorch\n",
    "transform = transforms.Compose([transforms.ToTensor(), transforms.Normalize((0.5,), (0.5,))])\n",
    "\n",
    "# Download and load the training and test datasets\n",
    "trainset = torchvision.datasets.MNIST(root='./data', train=True, download=True, transform=transform)\n",
    "trainloader = torch.utils.data.DataLoader(trainset, batch_size=64, shuffle=True)\n",
    "\n",
    "testset = torchvision.datasets.MNIST(root='./data', train=False, download=True, transform=transform)\n",
    "testloader = torch.utils.data.DataLoader(testset, batch_size=64, shuffle=False)"
   ]
  },
  {
   "cell_type": "markdown",
   "id": "3ab6a7b9-e610-41d7-9865-9f5e64080b7c",
   "metadata": {},
   "source": [
    "Define PyTorch Model"
   ]
  },
  {
   "cell_type": "code",
   "execution_count": 43,
   "id": "4b795622-693a-4d33-8fbf-f710752a3ee3",
   "metadata": {},
   "outputs": [],
   "source": [
    "# Define PyTorch Model\n",
    "class Net(nn.Module):\n",
    "    def __init__(self):\n",
    "        super(Net, self).__init__()\n",
    "        self.fc1 = nn.Linear(28 * 28, 128)\n",
    "        self.fc2 = nn.Linear(128, 64)\n",
    "        self.fc3 = nn.Linear(64, 10)\n",
    "\n",
    "    def forward(self, x):\n",
    "        x = x.view(-1, 28 * 28)\n",
    "        x = torch.relu(self.fc1(x))\n",
    "        x = torch.relu(self.fc2(x))\n",
    "        x = self.fc3(x)\n",
    "        return x\n",
    "\n",
    "net = Net()"
   ]
  },
  {
   "cell_type": "markdown",
   "id": "7fd3554b-909c-4f23-b2a8-c6b90deee416",
   "metadata": {},
   "source": [
    "Define Loss Function and Optimizers"
   ]
  },
  {
   "cell_type": "code",
   "execution_count": 44,
   "id": "ddffd1a0-7908-4d2f-a6c3-e3fc8d8720cb",
   "metadata": {},
   "outputs": [],
   "source": [
    "criterion = nn.CrossEntropyLoss()\n",
    "optimizer = optim.SGD(net.parameters(), lr=0.01, momentum=0.9)"
   ]
  },
  {
   "cell_type": "markdown",
   "id": "5c3ea7ea-edb5-401f-b775-53d9f1b3d916",
   "metadata": {},
   "source": [
    "Run a Training Loop"
   ]
  },
  {
   "cell_type": "code",
   "execution_count": 46,
   "id": "1740559b-256d-44e9-be7c-8dd35ba65f50",
   "metadata": {},
   "outputs": [
    {
     "name": "stdout",
     "output_type": "stream",
     "text": [
      "Epoch 1, Loss: 0.2513615007240222\n",
      "Finished Training\n"
     ]
    }
   ],
   "source": [
    "# Training the network\n",
    "epochs = 1\n",
    "for epoch in range(epochs):\n",
    "    running_loss = 0.0\n",
    "    for inputs, labels in trainloader:\n",
    "        optimizer.zero_grad()\n",
    "        outputs = net(inputs)\n",
    "        loss = criterion(outputs, labels)\n",
    "        loss.backward()\n",
    "        optimizer.step()\n",
    "        running_loss += loss.item()\n",
    "    print(f'Epoch {epoch + 1}, Loss: {running_loss / len(trainloader)}')\n",
    "\n",
    "print('Finished Training')"
   ]
  },
  {
   "cell_type": "markdown",
   "id": "aee0c70d-af0b-4f99-b728-4e6ac97fafa3",
   "metadata": {},
   "source": [
    "Evaluate the Model"
   ]
  },
  {
   "cell_type": "code",
   "execution_count": 47,
   "id": "372cfd15-f7c8-42e9-8e36-e8b3c5145cf0",
   "metadata": {},
   "outputs": [
    {
     "name": "stdout",
     "output_type": "stream",
     "text": [
      "Accuracy: 95.28%\n"
     ]
    }
   ],
   "source": [
    "# Evaluating the network\n",
    "correct = 0\n",
    "total = 0\n",
    "with torch.no_grad():\n",
    "    for inputs, labels in testloader:\n",
    "        outputs = net(inputs)\n",
    "        _, predicted = torch.max(outputs, 1)\n",
    "        total += labels.size(0)\n",
    "        correct += (predicted == labels).sum().item()\n",
    "\n",
    "print(f'Accuracy: {100 * correct / total}%')"
   ]
  },
  {
   "cell_type": "markdown",
   "id": "83edc1bc-1f46-424d-84e9-77a64b0a1a7e",
   "metadata": {},
   "source": [
    "Visualize"
   ]
  },
  {
   "cell_type": "code",
   "execution_count": 52,
   "id": "08ceb36c-b42a-46cc-8907-71f24cc42a4a",
   "metadata": {},
   "outputs": [
    {
     "data": {
      "image/png": "[encoded data removed]",
      "text/plain": [
       "<Figure size 1200x250 with 10 Axes>"
      ]
     },
     "metadata": {},
     "output_type": "display_data"
    }
   ],
   "source": [
    "# Visualize some test results\n",
    "dataiter = iter(testloader)\n",
    "images, labels = next(dataiter)\n",
    "\n",
    "# Print images and predictions\n",
    "outputs = net(images)\n",
    "_, predicted = torch.max(outputs, 1)\n",
    "\n",
    "fig, axes = plt.subplots(1, 10, figsize=(12, 2.5))\n",
    "for i in range(10):\n",
    "    ax = axes[i]\n",
    "    ax.imshow(images[i].numpy().squeeze(), cmap='gray')\n",
    "    ax.set_title(f'Pred: {predicted[i].item()}')\n",
    "    ax.axis('off')\n",
    "plt.show()"
   ]
  },
  {
   "cell_type": "code",
   "execution_count": null,
   "id": "37648ff2-843b-4852-89a0-4f31cbed4416",
   "metadata": {},
   "outputs": [],
   "source": []
  }
 ],
 "metadata": {
  "kernelspec": {
   "display_name": "Python 3 (ipykernel)",
   "language": "python",
   "name": "python3"
  },
  "language_info": {
   "codemirror_mode": {
    "name": "ipython",
    "version": 3
   },
   "file_extension": ".py",
   "mimetype": "text/x-python",
   "name": "python",
   "nbconvert_exporter": "python",
   "pygments_lexer": "ipython3",
   "version": "3.11.5"
  }
 },
 "nbformat": 4,
 "nbformat_minor": 5
}

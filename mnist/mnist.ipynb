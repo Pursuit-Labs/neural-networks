{
 "cells": [
  {
   "cell_type": "code",
   "execution_count": 1,
   "metadata": {
    "_cell_guid": "11318240-6a34-4c72-b8eb-406bf7f83ecd",
    "_uuid": "9b160e4e-d48b-4fc2-a80f-b7f257be6347",
    "collapsed": false,
    "jupyter": {
     "outputs_hidden": false
    }
   },
   "outputs": [],
   "source": [
    "import numpy as np\n",
    "import torch\n",
    "import torch.nn as nn\n",
    "import torch.optim as optim\n",
    "import pandas as pd\n",
    "import matplotlib.pyplot as plt"
   ]
  },
  {
   "cell_type": "code",
   "execution_count": 2,
   "metadata": {
    "_cell_guid": "3b6e3234-b82c-451b-9d78-59007fa230c3",
    "_uuid": "8aa7ee4a-769c-4594-8064-acd303ff8de3",
    "collapsed": false,
    "jupyter": {
     "outputs_hidden": false
    }
   },
   "outputs": [],
   "source": [
    "# Set random seeds for reproducibility\n",
    "seed = 42\n",
    "np.random.seed(seed)\n",
    "torch.manual_seed(seed)\n",
    "if torch.cuda.is_available():\n",
    "    torch.cuda.manual_seed(seed)\n",
    "    torch.cuda.manual_seed_all(seed)  # if you are using multi-GPU.\n",
    "torch.backends.cudnn.deterministic = True\n",
    "torch.backends.cudnn.benchmark = False"
   ]
  },
  {
   "cell_type": "markdown",
   "metadata": {
    "_cell_guid": "2d1a14ee-8cae-43d4-9208-220e3a878941",
    "_uuid": "ac063282-aa3a-494b-b153-c653b2b0e728"
   },
   "source": [
    "Load Data"
   ]
  },
  {
   "cell_type": "code",
   "execution_count": 3,
   "metadata": {
    "_cell_guid": "73c6b99a-bf34-4479-a354-ca6ab046a5f9",
    "_uuid": "12a5e271-c349-473e-aefe-e0760e9822e0",
    "collapsed": false,
    "jupyter": {
     "outputs_hidden": false
    }
   },
   "outputs": [
    {
     "name": "stdout",
     "output_type": "stream",
     "text": [
      "[[0. 0. 0. ... 0. 0. 0.]\n",
      " [0. 0. 0. ... 0. 0. 0.]\n",
      " [0. 0. 0. ... 0. 0. 0.]\n",
      " ...\n",
      " [0. 0. 0. ... 0. 0. 0.]\n",
      " [0. 0. 0. ... 0. 0. 0.]\n",
      " [0. 0. 0. ... 0. 0. 0.]]\n",
      "[1. 0. 1. ... 7. 6. 9.]\n"
     ]
    }
   ],
   "source": [
    "# load the dataset, split into input (X) and output (y) variables\n",
    "dataset = np.loadtxt('data/train.csv', delimiter=',', skiprows=1)\n",
    "X = dataset[:,1:]\n",
    "print(X)\n",
    "y = dataset[:, 0]\n",
    "print(y)"
   ]
  },
  {
   "cell_type": "code",
   "execution_count": 4,
   "metadata": {},
   "outputs": [],
   "source": [
    "# Normalize the training data\n",
    "X = X / 255.0  # Normalize pixel values to [0, 1]"
   ]
  },
  {
   "cell_type": "code",
   "execution_count": 5,
   "metadata": {
    "_cell_guid": "3425f783-b583-4d2e-a599-40615d444ea0",
    "_uuid": "86e7e1df-0395-4ffe-a1e2-e887f221ed9c",
    "collapsed": false,
    "jupyter": {
     "outputs_hidden": false
    }
   },
   "outputs": [],
   "source": [
    "X = torch.tensor(X, dtype=torch.float32)\n",
    "y = torch.tensor(y, dtype=torch.int64)  # Class indices should be int64"
   ]
  },
  {
   "cell_type": "markdown",
   "metadata": {
    "_cell_guid": "86ab5957-c0f0-4c1b-b04b-cc7295aa4747",
    "_uuid": "63852dac-d3ac-4228-94b3-d158c4629763"
   },
   "source": [
    "Define PyTorch Model"
   ]
  },
  {
   "cell_type": "code",
   "execution_count": 6,
   "metadata": {
    "_cell_guid": "95effff5-d99a-4787-bc63-5f4e3b256206",
    "_uuid": "503b9df6-b11d-439c-a5a8-a2c414052e4c",
    "collapsed": false,
    "jupyter": {
     "outputs_hidden": false
    }
   },
   "outputs": [
    {
     "name": "stdout",
     "output_type": "stream",
     "text": [
      "Sequential(\n",
      "  (0): Linear(in_features=784, out_features=300, bias=True)\n",
      "  (1): ReLU()\n",
      "  (2): Linear(in_features=300, out_features=300, bias=True)\n",
      "  (3): ReLU()\n",
      "  (4): Linear(in_features=300, out_features=10, bias=True)\n",
      ")\n"
     ]
    }
   ],
   "source": [
    "model = nn.Sequential(\n",
    "    nn.Linear(784, 300),\n",
    "    nn.ReLU(),\n",
    "    nn.Linear(300, 300),\n",
    "    nn.ReLU(),\n",
    "    nn.Linear(300, 10)\n",
    ")\n",
    "\n",
    "print(model)"
   ]
  },
  {
   "cell_type": "markdown",
   "metadata": {
    "_cell_guid": "341a49a4-6564-4917-bdfb-230ecc5e11c4",
    "_uuid": "7da46a2b-74cd-47f0-b9b4-ba58099ecbce"
   },
   "source": [
    "Define Loss Function and Optimizers"
   ]
  },
  {
   "cell_type": "code",
   "execution_count": 7,
   "metadata": {
    "_cell_guid": "f1118f8e-efdc-48b6-8f7c-86c3ff98f5e8",
    "_uuid": "272c6d73-6c5a-4bb6-8c8c-e15a87ced94c",
    "collapsed": false,
    "jupyter": {
     "outputs_hidden": false
    }
   },
   "outputs": [],
   "source": [
    "loss_fn = nn.CrossEntropyLoss()  # binary cross entropy\n",
    "optimizer = optim.Adam(model.parameters(), lr=0.001)"
   ]
  },
  {
   "cell_type": "markdown",
   "metadata": {
    "_cell_guid": "fd753594-2669-45f0-b61c-ee3abbd9b391",
    "_uuid": "f30ce0a3-3e32-447c-9b7a-34df2be45255"
   },
   "source": [
    "Run a Training Loop"
   ]
  },
  {
   "cell_type": "code",
   "execution_count": null,
   "metadata": {
    "_cell_guid": "80bfb754-f6b2-464a-aee4-bc07fb5b3e23",
    "_uuid": "e08be375-5166-4b28-aa44-e4c18fe9f9c3",
    "collapsed": false,
    "jupyter": {
     "outputs_hidden": false
    }
   },
   "outputs": [],
   "source": [
    "# Run the training loop\n",
    "n_epochs = 10\n",
    "batch_size = 10\n",
    "\n",
    "for epoch in range(n_epochs):\n",
    "    for i in range(0, len(X), batch_size):\n",
    "        Xbatch = X[i:i + batch_size]\n",
    "        ybatch = y[i:i + batch_size]\n",
    "\n",
    "        # Forward pass\n",
    "        y_pred = model(Xbatch)\n",
    "\n",
    "        # Compute loss\n",
    "        loss = loss_fn(y_pred, ybatch)\n",
    "\n",
    "        # Backward pass and optimization\n",
    "        optimizer.zero_grad()\n",
    "        loss.backward()\n",
    "        optimizer.step()\n",
    "\n",
    "    print(f'Finished epoch {epoch}, latest loss {loss.item()}')"
   ]
  },
  {
   "cell_type": "markdown",
   "metadata": {
    "_cell_guid": "6856f230-6eae-4c42-8615-180e16c6e25f",
    "_uuid": "d7fc5b6e-cb4d-4500-bca2-c51012d9c2ab"
   },
   "source": [
    "Evaluate the Model"
   ]
  },
  {
   "cell_type": "code",
   "execution_count": null,
   "metadata": {
    "_cell_guid": "f9b0f293-2d44-47e7-8fba-12a14d83a0a4",
    "_uuid": "eb4fc6ea-8203-4fc3-b451-1729b9b79375",
    "collapsed": false,
    "jupyter": {
     "outputs_hidden": false
    }
   },
   "outputs": [],
   "source": [
    "# Evaluate the model\n",
    "with torch.no_grad():\n",
    "    y_pred = model(X)\n",
    "    predictions = torch.argmax(y_pred, dim=1)\n",
    "    accuracy = (predictions == y).float().mean()\n",
    "    print(f\"Accuracy: {accuracy.item()}\")"
   ]
  },
  {
   "cell_type": "markdown",
   "metadata": {
    "_cell_guid": "f548f94c-47ae-4a5d-ac17-22bf768616c4",
    "_uuid": "de11efda-eda7-4bf4-bc84-ba0e512bf1c4"
   },
   "source": [
    "Make Predictions"
   ]
  },
  {
   "cell_type": "code",
   "execution_count": null,
   "metadata": {
    "_cell_guid": "88ce17d7-68e2-42d0-b44d-beaf6ae0eddb",
    "_uuid": "26e704b3-dc68-4fed-8500-8beb959527d2",
    "collapsed": false,
    "jupyter": {
     "outputs_hidden": false
    }
   },
   "outputs": [],
   "source": [
    "# Load the test dataset\n",
    "test_data_path = 'data/test.csv'\n",
    "test_df = pd.read_csv(test_data_path)\n",
    "\n",
    "# Prepare the test data\n",
    "test_X = test_df.values\n",
    "test_X = test_X / 255.0  # Normalize pixel values to [0, 1]\n",
    "test_X = torch.tensor(test_X, dtype=torch.float32)\n",
    "\n",
    "model.eval()\n",
    "\n",
    "# Make predictions\n",
    "with torch.no_grad():\n",
    "    outputs = model(test_X)\n",
    "    test_predictions = torch.argmax(outputs, dim=1).numpy()\n",
    "\n",
    "# Create a DataFrame with ImageId and Label\n",
    "image_ids = np.arange(1, len(test_predictions) + 1)  # Assuming ImageId starts from 1\n",
    "submission_df = pd.DataFrame({\n",
    "    'ImageId': image_ids,\n",
    "    'Label': test_predictions\n",
    "})\n",
    "\n",
    "# Save to CSV file\n",
    "submission_df.to_csv('submission.csv', index=False)"
   ]
  },
  {
   "cell_type": "code",
   "execution_count": null,
   "metadata": {
    "_cell_guid": "39406e8b-27af-4c64-899b-3d4d66c5afb6",
    "_uuid": "dbf4c24a-0bce-4412-b491-fdafd1325fba",
    "collapsed": false,
    "jupyter": {
     "outputs_hidden": false
    }
   },
   "outputs": [],
   "source": [
    "# Select a few samples to visualize\n",
    "num_samples = 10\n",
    "sample_indices = np.random.choice(len(test_X), num_samples, replace=False)\n",
    "sample_images = test_X[sample_indices].numpy()\n",
    "sample_predictions = test_predictions[sample_indices]\n",
    "\n",
    "# Visualize the samples along with their predicted labels\n",
    "fig, axes = plt.subplots(1, num_samples, figsize=(20, 2))\n",
    "for i, ax in enumerate(axes):\n",
    "    ax.imshow(sample_images[i].reshape(28, 28), cmap='gray')\n",
    "    ax.set_title(f'Pred: {sample_predictions[i]}')\n",
    "    ax.axis('off')\n",
    "plt.show()"
   ]
  },
  {
   "cell_type": "code",
   "execution_count": null,
   "metadata": {
    "_cell_guid": "032f2bde-73b8-4427-af21-6ac8a1b74eb0",
    "_uuid": "0714dadb-befd-4b0b-9bf7-a552e747b9ad",
    "collapsed": false,
    "jupyter": {
     "outputs_hidden": false
    }
   },
   "outputs": [],
   "source": []
  }
 ],
 "metadata": {
  "kaggle": {
   "accelerator": "none",
   "dataSources": [
    {
     "databundleVersionId": 861823,
     "sourceId": 3004,
     "sourceType": "competition"
    }
   ],
   "dockerImageVersionId": 30732,
   "isGpuEnabled": false,
   "isInternetEnabled": true,
   "language": "python",
   "sourceType": "notebook"
  },
  "kernelspec": {
   "display_name": "Python 3 (ipykernel)",
   "language": "python",
   "name": "python3"
  },
  "language_info": {
   "codemirror_mode": {
    "name": "ipython",
    "version": 3
   },
   "file_extension": ".py",
   "mimetype": "text/x-python",
   "name": "python",
   "nbconvert_exporter": "python",
   "pygments_lexer": "ipython3",
   "version": "3.11.5"
  }
 },
 "nbformat": 4,
 "nbformat_minor": 4
}
